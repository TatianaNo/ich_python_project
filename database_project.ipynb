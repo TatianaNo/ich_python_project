{
 "cells": [
  {
   "cell_type": "markdown",
   "id": "63cf5777",
   "metadata": {},
   "source": [
    "# Проект работы с базами данных\n",
    "\n",
    "Этот notebook демонстрирует работу с MySQL и MongoDB базами данных используя Python."
   ]
  },
  {
   "cell_type": "markdown",
   "id": "c8b18173",
   "metadata": {},
   "source": [
    "## 1. Импорт необходимых библиотек\n",
    "\n",
    "Импортируем библиотеки для работы с MySQL и MongoDB базами данных."
   ]
  },
  {
   "cell_type": "code",
   "execution_count": null,
   "id": "57f3853a",
   "metadata": {},
   "outputs": [],
   "source": [
    "# Импорт библиотек для работы с базами данных\n",
    "import pymysql\n",
    "import pymongo\n",
    "from pymongo import MongoClient\n",
    "import json\n",
    "import pandas as pd\n",
    "\n",
    "print(\"Библиотеки успешно импортированы!\")"
   ]
  },
  {
   "cell_type": "markdown",
   "id": "e70e2521",
   "metadata": {},
   "source": [
    "## 2. Подключение к MySQL базе данных\n",
    "\n",
    "Настройка подключения к MySQL серверу и создание базы данных."
   ]
  },
  {
   "cell_type": "code",
   "execution_count": null,
   "id": "dd79c207",
   "metadata": {},
   "outputs": [],
   "source": [
    "# Настройки подключения к MySQL\n",
    "mysql_config = {\n",
    "    'host': 'localhost',\n",
    "    'user': 'root',\n",
    "    'password': 'your_password',\n",
    "    'charset': 'utf8mb4'\n",
    "}\n",
    "\n",
    "try:\n",
    "    # Подключение к MySQL серверу\n",
    "    connection = pymysql.connect(**mysql_config)\n",
    "    print(\"Успешное подключение к MySQL серверу\")\n",
    "    \n",
    "    # Создание курсора\n",
    "    cursor = connection.cursor()\n",
    "    \n",
    "    # Создание базы данных (если не существует)\n",
    "    cursor.execute(\"CREATE DATABASE IF NOT EXISTS test_db\")\n",
    "    print(\"База данных создана или уже существует\")\n",
    "    \n",
    "    connection.close()\n",
    "    \n",
    "except Exception as e:\n",
    "    print(f\"Ошибка подключения: {e}\")"
   ]
  },
  {
   "cell_type": "markdown",
   "id": "02b4302a",
   "metadata": {},
   "source": [
    "## 3. Подключение к MongoDB базе данных\n",
    "\n",
    "Настройка подключения к MongoDB серверу и создание коллекции."
   ]
  },
  {
   "cell_type": "code",
   "execution_count": null,
   "id": "39ef29b9",
   "metadata": {},
   "outputs": [],
   "source": [
    "try:\n",
    "    # Подключение к MongoDB серверу\n",
    "    mongo_client = MongoClient('mongodb://localhost:27017/')\n",
    "    print(\"Успешное подключение к MongoDB серверу\")\n",
    "    \n",
    "    # Выбор базы данных\n",
    "    mongo_db = mongo_client['test_database']\n",
    "    \n",
    "    # Выбор коллекции\n",
    "    collection = mongo_db['test_collection']\n",
    "    \n",
    "    # Проверка подключения\n",
    "    server_info = mongo_client.server_info()\n",
    "    print(f\"Версия MongoDB: {server_info['version']}\")\n",
    "    \n",
    "except Exception as e:\n",
    "    print(f\"Ошибка подключения к MongoDB: {e}\")"
   ]
  },
  {
   "cell_type": "markdown",
   "id": "3eaae188",
   "metadata": {},
   "source": [
    "## 4. Заключение\n",
    "\n",
    "В этом notebook мы рассмотрели:\n",
    "- Настройку зависимостей для работы с базами данных\n",
    "- Подключение к MySQL используя PyMySQL\n",
    "- Подключение к MongoDB используя PyMongo\n",
    "\n",
    "Теперь вы можете использовать эти подключения для выполнения различных операций с базами данных в вашем Python проекте."
   ]
  }
 ],
 "metadata": {
  "language_info": {
   "name": "python"
  }
 },
 "nbformat": 4,
 "nbformat_minor": 5
}
